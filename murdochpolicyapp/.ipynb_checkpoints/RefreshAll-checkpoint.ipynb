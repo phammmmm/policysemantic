{
 "cells": [
  {
   "cell_type": "code",
   "execution_count": 60,
   "metadata": {},
   "outputs": [],
   "source": [
    "#Import\n",
    "import os as os\n",
    "import fnmatch\n",
    "import re\n",
    "import glob\n",
    "from io import StringIO\n",
    "import numpy as np\n",
    "import sys\n",
    "import networkx as nx\n",
    "import matplotlib.pyplot as plt\n",
    "import random\n",
    "from pathlib import Path\n",
    "\n",
    "#Import DB Models\n",
    "from murdochpolicyapp.models import Category,StopWord\n",
    "from murdochpolicyapp.models import Document\n",
    "from murdochpolicyapp.models import DocLink\n",
    "from django.db.models import Q\n",
    "\n",
    "#PDF Import\n",
    "from pdfminer.converter import TextConverter\n",
    "from pdfminer.layout import LAParams\n",
    "from pdfminer.pdfdocument import PDFDocument\n",
    "from pdfminer.pdfinterp import PDFResourceManager, PDFPageInterpreter\n",
    "from pdfminer.pdfpage import PDFPage\n",
    "from pdfminer.pdfparser import PDFParser\n",
    "from pdfminer.pdftypes import resolve1\n",
    "from pdfminer.psparser import PSLiteral, PSKeyword\n",
    "from pdfminer.utils import decode_text\n",
    "\n",
    "#NLTK\n",
    "from nltk.corpus import stopwords\n",
    "from nltk.tokenize import word_tokenize\n",
    "from nltk.stem import PorterStemmer\n",
    "\n",
    "# Import all of the scikit learn stuff\n",
    "import sklearn\n",
    "from sklearn.decomposition import TruncatedSVD\n",
    "from sklearn.feature_extraction.text import TfidfVectorizer\n",
    "from sklearn.feature_extraction.text import CountVectorizer\n",
    "from sklearn.preprocessing import Normalizer\n",
    "from sklearn import metrics\n",
    "from sklearn.cluster import KMeans, MiniBatchKMeans\n",
    "from sklearn.model_selection import train_test_split\n",
    "from sklearn.metrics import log_loss\n",
    "import scipy\n"
   ]
  },
  {
   "cell_type": "markdown",
   "metadata": {},
   "source": [
    "# Set Paths"
   ]
  },
  {
   "cell_type": "code",
   "execution_count": 97,
   "metadata": {},
   "outputs": [
    {
     "data": {
      "text/plain": [
       "'/Users/pamelapham/Documents/Murdoch/ICT302/Final_year_project/murdoch_policy/media/policy_documents'"
      ]
     },
     "execution_count": 97,
     "metadata": {},
     "output_type": "execute_result"
    }
   ],
   "source": [
    "BASE_DIR = os.path.abspath(os.path.join(os.getcwd(), os.pardir))\n",
    "DOC_DIR = os.path.join(BASE_DIR,'media','policy_documents')\n",
    "STATIC_DIR = os.path.join(BASE_DIR,'static')\n",
    "STOP_WORD_FILE = os.path.join(STATIC_DIR,'stop_words.txt')\n",
    "IMG_DIR = os.path.join(STATIC_DIR,'images')\n",
    "HOMEPAGE_MAP= os.path.join(IMG_DIR,'home_diagram.png')\n",
    "DOCUMENT_MAP= os.path.join(IMG_DIR,'document_diagram.png')\n",
    "os.environ[\"DJANGO_ALLOW_ASYNC_UNSAFE\"] = \"true\"\n",
    "\n",
    "DOC_DIR"
   ]
  },
  {
   "cell_type": "code",
   "execution_count": 62,
   "metadata": {},
   "outputs": [],
   "source": [
    "#Preprocessing - Convert lower case\n",
    "def convert_lower_case(data):\n",
    "    return np.char.lower(data)"
   ]
  },
  {
   "cell_type": "code",
   "execution_count": 79,
   "metadata": {},
   "outputs": [],
   "source": [
    "#Find files in folder matching pattern case insensitive\n",
    "def findfiles(which, where='.'):\n",
    "    rule = re.compile(fnmatch.translate(which), re.IGNORECASE)\n",
    "    return [where+'/'+name for name in os.listdir(where) if rule.match(name)]"
   ]
  },
  {
   "cell_type": "code",
   "execution_count": 80,
   "metadata": {},
   "outputs": [],
   "source": [
    "def initStopWords():\n",
    "     #Extend Stopwords\n",
    "    policy_stop_words = []\n",
    "    with open(STOP_WORD_FILE) as f:\n",
    "      for line in f:\n",
    "        policy_stop_words.extend(line.rstrip('\\n').split(','))\n",
    "    for word in policy_stop_words:\n",
    "        stop_word = StopWord.objects.create(value=word)\n",
    "        stop_word.save()"
   ]
  },
  {
   "cell_type": "markdown",
   "metadata": {},
   "source": [
    "# Document Processing Functions"
   ]
  },
  {
   "cell_type": "code",
   "execution_count": 81,
   "metadata": {},
   "outputs": [],
   "source": [
    "#Preprocessing - Remove Stop words\n",
    "def remove_stop_words(data):\n",
    "    stop_words = stopwords.words('english')\n",
    "    \n",
    "    #Extend Stopwords\n",
    "    policy_stop_words = []\n",
    "    for word in StopWord.objects.all():\n",
    "        policy_stop_words.append(word.value)\n",
    "    \n",
    "    words = word_tokenize(str(data))\n",
    "    new_text = \"\"\n",
    "    for w in words:\n",
    "        if w not in policy_stop_words  and w not in stop_words and len(w) > 3: #remove also the word with length <= 2\n",
    "            new_text = new_text + \" \" + w\n",
    "    return new_text\n"
   ]
  },
  {
   "cell_type": "code",
   "execution_count": 82,
   "metadata": {},
   "outputs": [],
   "source": [
    "#Preprocessing - Remove Punctuation\n",
    "def remove_punctuation(data):\n",
    "    symbols = \"!\\\"#$%&()*+-./:;<=>?@[\\]^_`{|}~\\n\"\n",
    "    for i in range(len(symbols)):\n",
    "        data = np.char.replace(data, symbols[i], ' ')\n",
    "        data = np.char.replace(data, \"  \", \" \")\n",
    "    data = np.char.replace(data, ',', '')\n",
    "    return data"
   ]
  },
  {
   "cell_type": "code",
   "execution_count": 83,
   "metadata": {},
   "outputs": [],
   "source": [
    "#Preprocessing - Remove Apostrophe\n",
    "def remove_apostrophe(data):\n",
    "    return np.char.replace(data, \"'\", \"\")"
   ]
  },
  {
   "cell_type": "code",
   "execution_count": 84,
   "metadata": {},
   "outputs": [],
   "source": [
    "#Preprocessing - Stemming\n",
    "def stemming(data):\n",
    "    stemmer= PorterStemmer()\n",
    "    \n",
    "    tokens = word_tokenize(str(data))\n",
    "    new_text = \"\"\n",
    "    for w in tokens:\n",
    "        new_text = new_text + \" \" + stemmer.stem(w)\n",
    "    return new_text"
   ]
  },
  {
   "cell_type": "code",
   "execution_count": 85,
   "metadata": {},
   "outputs": [],
   "source": [
    "#Preprocessing - convert numbers\n",
    "def convert_numbers(data):\n",
    "    tokens = word_tokenize(str(data))\n",
    "    new_text = \"\"\n",
    "    for w in tokens:\n",
    "        try:\n",
    "            w = num2words(int(w))\n",
    "        except:\n",
    "            a = 0\n",
    "        new_text = new_text + \" \" + w\n",
    "    new_text = np.char.replace(new_text, \"-\", \" \")\n",
    "    return new_text"
   ]
  },
  {
   "cell_type": "code",
   "execution_count": 86,
   "metadata": {},
   "outputs": [],
   "source": [
    "#Preprocessing Data\n",
    "def preprocess(data):\n",
    "    data = convert_lower_case(data)\n",
    "    data = remove_punctuation(data) #remove comma seperately\n",
    "    data = remove_apostrophe(data)\n",
    "    data = remove_stop_words(data)\n",
    "    data = convert_numbers(data)\n",
    "    data = stemming(data)\n",
    "    data = remove_punctuation(data)\n",
    "    data = convert_numbers(data)\n",
    "    data = stemming(data) #needed again as we need to stem the words\n",
    "    data = remove_punctuation(data) #needed again as num2word is giving few hypens and commas fourty-one\n",
    "    data = remove_stop_words(data) #needed again as num2word is giving stop words 101 - one hundred and one\n",
    "    return data"
   ]
  },
  {
   "cell_type": "code",
   "execution_count": 87,
   "metadata": {},
   "outputs": [],
   "source": [
    "def remove_empty_lines(filename):\n",
    "    #Overwrite the file, removing empty lines and lines that contain only whitespace.\n",
    "    with open(filename, 'r+') as f:\n",
    "        lines = f.readlines()\n",
    "        f.seek(0)\n",
    "        f.writelines(line for line in lines if line.strip())\n",
    "        f.truncate()\n",
    "        "
   ]
  },
  {
   "cell_type": "code",
   "execution_count": 88,
   "metadata": {},
   "outputs": [],
   "source": [
    "def pdf_to_txt(pdfFileName):\n",
    "    output_string = StringIO()\n",
    "    txtFileName = pdfFileName[0:pdfFileName.rindex('.')]+'.txt'\n",
    "    txt_file = open(txtFileName,\"w+\") \n",
    "    with open(pdfFileName, 'rb') as pdf_file:\n",
    "        parser = PDFParser(pdf_file)\n",
    "        doc = PDFDocument(parser)\n",
    "        rsrcmgr = PDFResourceManager()\n",
    "        device = TextConverter(rsrcmgr, output_string, laparams=LAParams())\n",
    "        interpreter = PDFPageInterpreter(rsrcmgr, device)\n",
    "        for page in PDFPage.create_pages(doc):\n",
    "            interpreter.process_page(page)\n",
    "        txt_file.write(preprocess(output_string.getvalue()))\n",
    "    txt_file.close()\n",
    "    pdf_file.close()\n",
    "    remove_empty_lines(txtFileName)"
   ]
  },
  {
   "cell_type": "markdown",
   "metadata": {},
   "source": [
    "# Similarity Functions"
   ]
  },
  {
   "cell_type": "code",
   "execution_count": 89,
   "metadata": {},
   "outputs": [],
   "source": [
    "def get_similarity(text1, text2):\n",
    "    #Setup vector\n",
    "    vectorizer = TfidfVectorizer(min_df=1,stop_words=\"english\")\n",
    "    corpus = [text1,text2]\n",
    "    #Transform for pairwise similarity\n",
    "    tfidf = vectorizer.fit_transform(corpus)\n",
    "    pairwise_similarity = tfidf * tfidf.T \n",
    "    return pairwise_similarity[(0,1)]"
   ]
  },
  {
   "cell_type": "code",
   "execution_count": 90,
   "metadata": {},
   "outputs": [],
   "source": [
    "def get_feature_words(text):\n",
    "    vectorizer = TfidfVectorizer(min_df=1,stop_words=\"english\")\n",
    "    corpus = [text]\n",
    "    tfidf = vectorizer.fit_transform(corpus)\n",
    "    return vectorizer.get_feature_names()\n"
   ]
  },
  {
   "cell_type": "code",
   "execution_count": 57,
   "metadata": {},
   "outputs": [],
   "source": [
    "doc = Document.objects.get(pk=306)\n",
    "doc.feature_words=get_feature_words(Document.objects.get(pk=306).doc_text)"
   ]
  },
  {
   "cell_type": "code",
   "execution_count": 59,
   "metadata": {},
   "outputs": [
    {
     "name": "stdout",
     "output_type": "stream",
     "text": [
      "['accept', 'access', 'accord', 'achiev', 'action', 'administr', 'advanc', 'affirm', 'aggress', 'alleg', 'alloc', 'amend', 'anticip', 'appear', 'applic', 'approv', 'assault', 'audienc', 'australia', 'author', 'behaviour', 'belief', 'belittl', 'breach', 'brunt', 'bulli', 'carri', 'case', 'chang', 'circumst', 'code', 'colour', 'comment', 'commiss', 'commit', 'common', 'commonli', 'commun', 'conduct', 'confer', 'confid', 'confidenti', 'conflict', 'consid', 'constantli', 'constitut', 'consult', 'contact', 'copi', 'cover', 'creat', 'critic', 'cultur', 'deadlin', 'dealt', 'deci', 'defin', 'definit', 'degrad', 'delib', 'deliv', 'deni', 'describ', 'design', 'dictionari', 'differ', 'difficult', 'digniti', 'direct', 'director', 'disabl', 'disciplinari', 'discrimin', 'disturb', 'document', 'effect', 'electron', 'elimin', 'email', 'employ', 'engag', 'ensur', 'entitl', 'environ', 'equal', 'equip', 'ethnic', 'event', 'exampl', 'exhaust', 'expect', 'extent', 'extern', 'fair', 'famili', 'favour', 'fellow', 'follow', 'free', 'frighten', 'function', 'govern', 'grievanc', 'group', 'guidelin', 'handl', 'harass', 'harm', 'health', 'histori', 'hour', 'howev', 'humili', 'ignor', 'implement', 'inappropri', 'incid', 'includ', 'indic', 'individu', 'inform', 'initi', 'injuri', 'instanc', 'institut', 'insult', 'interf', 'intern', 'intimid', 'intranet', 'involv', 'isol', 'issu', 'joke', 'know', 'languag', 'latest', 'leav', 'letter', 'level', 'lifestyl', 'limit', 'list', 'lunch', 'make', 'manag', 'manageri', 'manner', 'media', 'meet', 'member', 'memo', 'messag', 'minut', 'misconduct', 'nation', 'natur', 'note', 'object', 'occup', 'occur', 'offen', 'offend', 'offic', 'opinion', 'opportun', 'organi', 'origin', 'outsid', 'overload', 'particip', 'pattern', 'peopl', 'perform', 'person', 'phone', 'physic', 'plea', 'polici', 'posit', 'possibl', 'practic', 'prank', 'print', 'problem', 'procedur', 'process', 'promot', 'provid', 'purpo', 'race', 'racial', 'rang', 'reason', 'recipi', 'reduc', 'refer', 'regard', 'regularli', 'relat', 'relationship', 'relev', 'religion', 'repeat', 'repetit', 'request', 'rescind', 'resolut', 'resourc', 'respect', 'respon', 'revi', 'review', 'ridicul', 'risk', 'safeti', 'scream', 'sexual', 'skill', 'social', 'someon', 'specif', 'staff', 'standard', 'statement', 'support', 'taken', 'task', 'term', 'termin', 'threat', 'threaten', 'time', 'timelin', 'train', 'transfer', 'treat', 'treatment', 'type', 'typic', 'undermin', 'understood', 'unfair', 'univ', 'unlaw', 'unreason', 'unsatisfactori', 'unwelcom', 'upset', 'verbal', 'version', 'victimi', 'violenc', 'wellb', 'western', 'wide', 'work', 'worker', 'workplac', 'yell']\n"
     ]
    }
   ],
   "source": [
    "print(doc.feature_words)"
   ]
  },
  {
   "cell_type": "code",
   "execution_count": 14,
   "metadata": {},
   "outputs": [],
   "source": [
    "def draw_network_documents(docs,docLinks,img_path):\n",
    "    G = nx.Graph(day=\"Stackoverflow\")\n",
    "\n",
    "    for doc in docs:\n",
    "        G.add_node(doc.doc_name, group=doc.category.id, nodesize=doc.node_size)\n",
    "\n",
    "    for link in docLinks:       \n",
    "        doc1 = Document.objects.get(pk=link.source)\n",
    "        doc2 = Document.objects.get(pk=link.target)\n",
    "        G.add_weighted_edges_from([(doc1.doc_name, doc2.doc_name, link.value)])\n",
    "    \n",
    "    cats = Category.objects.all()\n",
    "    color_map = {}\n",
    "    colors = ['#f09494', '#eebcbc', '#72bbd0', '#91f0a1', '#629fff','#bcc2f2','#eebcbc', \n",
    "              '#f1f0c0', '#d2ffe7', '#caf3a6', '#ffdf55', '#ef77aa', '#d6dcff', '#d2f5f0']\n",
    "    for i in range(len(cats)):\n",
    "        if i<len(colors) :\n",
    "            color_map[cats[i].id] = colors[i] \n",
    "        else:\n",
    "            color_map[cats[i].id] = \"#\"+''.join([random.choice('0123456789ABCDEF') for j in range(6)])\n",
    "\n",
    "    plt.figure(figsize=(20,20))\n",
    "    options = {\n",
    "        'edge_color': '#FFDEA2',\n",
    "        'width': 1,\n",
    "        'with_labels': True,\n",
    "        'font_weight': 'regular',\n",
    "    }\n",
    "  \n",
    "    nodeColors = [color_map[G.nodes[node]['group']] for node in G]\n",
    "    sizes = [G.nodes[node]['nodesize']/10 for node in G]\n",
    "\n",
    "    nx.draw(G, node_color=nodeColors, node_size=sizes, pos=nx.spring_layout(G, k=0.45, iterations=30), **options)\n",
    "    ax = plt.gca()\n",
    "    ax.collections[0].set_edgecolor(\"#555555\") \n",
    "    plt.savefig(img_path)\n",
    "    plt.show()"
   ]
  },
  {
   "cell_type": "code",
   "execution_count": null,
   "metadata": {},
   "outputs": [],
   "source": []
  },
  {
   "cell_type": "code",
   "execution_count": 15,
   "metadata": {},
   "outputs": [],
   "source": [
    "def draw_doc_relationship(doc):\n",
    "    docs = []\n",
    "    docs.append(doc)\n",
    "    for link in DocLink.objects.filter(source__exact=doc.id):\n",
    "        target = Document.objects.get(pk=link.target)\n",
    "        docs.append(target)\n",
    "    for link in DocLink.objects.filter(target__exact=doc.id):\n",
    "        source = Document.objects.get(pk=link.source)\n",
    "        docs.append(source)\n",
    "        \n",
    "    docLinks = DocLink.objects.filter(Q(source__exact=doc.id) | Q(target__exact=doc.id))\n",
    "\n",
    "    draw_network_documents(docs,docLinks,DOCUMENT_MAP)\n",
    "    "
   ]
  },
  {
   "cell_type": "markdown",
   "metadata": {},
   "source": [
    "# Retrieve Folders and Documents"
   ]
  },
  {
   "cell_type": "code",
   "execution_count": 98,
   "metadata": {},
   "outputs": [
    {
     "data": {
      "text/plain": [
       "['/Users/pamelapham/Documents/Murdoch/ICT302/Final_year_project/murdoch_policy/media/policy_documents',\n",
       " '/Users/pamelapham/Documents/Murdoch/ICT302/Final_year_project/murdoch_policy/media/policy_documents/Research',\n",
       " '/Users/pamelapham/Documents/Murdoch/ICT302/Final_year_project/murdoch_policy/media/policy_documents/Health Safety & Environment',\n",
       " '/Users/pamelapham/Documents/Murdoch/ICT302/Final_year_project/murdoch_policy/media/policy_documents/Physical Facilities',\n",
       " '/Users/pamelapham/Documents/Murdoch/ICT302/Final_year_project/murdoch_policy/media/policy_documents/People Culture',\n",
       " '/Users/pamelapham/Documents/Murdoch/ICT302/Final_year_project/murdoch_policy/media/policy_documents/Learning Teaching',\n",
       " '/Users/pamelapham/Documents/Murdoch/ICT302/Final_year_project/murdoch_policy/media/policy_documents/Information Technology',\n",
       " '/Users/pamelapham/Documents/Murdoch/ICT302/Final_year_project/murdoch_policy/media/policy_documents/Community Development',\n",
       " '/Users/pamelapham/Documents/Murdoch/ICT302/Final_year_project/murdoch_policy/media/policy_documents/Governance',\n",
       " '/Users/pamelapham/Documents/Murdoch/ICT302/Final_year_project/murdoch_policy/media/policy_documents/Finance Purchasing Insurance']"
      ]
     },
     "execution_count": 98,
     "metadata": {},
     "output_type": "execute_result"
    }
   ],
   "source": [
    "folders = [x[0] for x in os.walk(DOC_DIR)]\n",
    "folders"
   ]
  },
  {
   "cell_type": "code",
   "execution_count": 99,
   "metadata": {},
   "outputs": [
    {
     "name": "stdout",
     "output_type": "stream",
     "text": [
      "/Users/pamelapham/Documents/Murdoch/ICT302/Final_year_project/murdoch_policy/media/policy_documents/Research/research_misconduct_policy_v1.pdf\n",
      "/Users/pamelapham/Documents/Murdoch/ICT302/Final_year_project/murdoch_policy/media/policy_documents/Research/graduate_research_degrees_joint_doctoral_degree_research_policy_v3.pdf\n",
      "/Users/pamelapham/Documents/Murdoch/ICT302/Final_year_project/murdoch_policy/media/policy_documents/Research/human_research_ethics_policy_v4.pdf\n",
      "/Users/pamelapham/Documents/Murdoch/ICT302/Final_year_project/murdoch_policy/media/policy_documents/Research/animal_ethics_policy_v2.pdf\n",
      "/Users/pamelapham/Documents/Murdoch/ICT302/Final_year_project/murdoch_policy/media/policy_documents/Research/responsible_conduct_of_research_policy_v2.pdf\n",
      "/Users/pamelapham/Documents/Murdoch/ICT302/Final_year_project/murdoch_policy/media/policy_documents/Health Safety & Environment/environmental_sustainability_policy.pdf\n",
      "/Users/pamelapham/Documents/Murdoch/ICT302/Final_year_project/murdoch_policy/media/policy_documents/Health Safety & Environment/immunisation_policy.pdf\n",
      "/Users/pamelapham/Documents/Murdoch/ICT302/Final_year_project/murdoch_policy/media/policy_documents/Health Safety & Environment/manual_handling_and_work_station_ergonomics_policy.pdf\n",
      "/Users/pamelapham/Documents/Murdoch/ICT302/Final_year_project/murdoch_policy/media/policy_documents/Health Safety & Environment/portable_amenity_furniture_policy.pdf\n",
      "/Users/pamelapham/Documents/Murdoch/ICT302/Final_year_project/murdoch_policy/media/policy_documents/Health Safety & Environment/safety_health_and_wellbeing_policy.pdf\n",
      "/Users/pamelapham/Documents/Murdoch/ICT302/Final_year_project/murdoch_policy/media/policy_documents/Health Safety & Environment/children_in_the_workplace_policy.pdf\n",
      "/Users/pamelapham/Documents/Murdoch/ICT302/Final_year_project/murdoch_policy/media/policy_documents/Physical Facilities/maintenance_planning_policy_v2.pdf\n",
      "/Users/pamelapham/Documents/Murdoch/ICT302/Final_year_project/murdoch_policy/media/policy_documents/Physical Facilities/air_conditioning_and_heating_policy_v1.pdf\n",
      "/Users/pamelapham/Documents/Murdoch/ICT302/Final_year_project/murdoch_policy/media/policy_documents/Physical Facilities/library_policy_v1.pdf\n",
      "/Users/pamelapham/Documents/Murdoch/ICT302/Final_year_project/murdoch_policy/media/policy_documents/Physical Facilities/copyright_policy_v3.pdf\n",
      "/Users/pamelapham/Documents/Murdoch/ICT302/Final_year_project/murdoch_policy/media/policy_documents/Physical Facilities/library_collections_policy_v3.pdf\n",
      "/Users/pamelapham/Documents/Murdoch/ICT302/Final_year_project/murdoch_policy/media/policy_documents/Physical Facilities/policy_on_the_information_literacy_program_delivered_by_the_library_v1.pdf\n",
      "/Users/pamelapham/Documents/Murdoch/ICT302/Final_year_project/murdoch_policy/media/policy_documents/Physical Facilities/parking_and_traffic_policy_v1.pdf\n",
      "/Users/pamelapham/Documents/Murdoch/ICT302/Final_year_project/murdoch_policy/media/policy_documents/Physical Facilities/asbestos_management_policy_v2.pdf\n",
      "/Users/pamelapham/Documents/Murdoch/ICT302/Final_year_project/murdoch_policy/media/policy_documents/Physical Facilities/security_policy_v2.pdf\n",
      "/Users/pamelapham/Documents/Murdoch/ICT302/Final_year_project/murdoch_policy/media/policy_documents/Physical Facilities/library_online_licensed_resource_access_policy_v1.pdf\n",
      "/Users/pamelapham/Documents/Murdoch/ICT302/Final_year_project/murdoch_policy/media/policy_documents/Physical Facilities/special_collections_policy_v1.pdf\n",
      "/Users/pamelapham/Documents/Murdoch/ICT302/Final_year_project/murdoch_policy/media/policy_documents/People Culture/workplace_bullying_and_harassment_policy.pdf\n",
      "/Users/pamelapham/Documents/Murdoch/ICT302/Final_year_project/murdoch_policy/media/policy_documents/Learning Teaching/honours_policy.pdf\n",
      "/Users/pamelapham/Documents/Murdoch/ICT302/Final_year_project/murdoch_policy/media/policy_documents/Learning Teaching/admissions_coursework_policy.pdf\n",
      "/Users/pamelapham/Documents/Murdoch/ICT302/Final_year_project/murdoch_policy/media/policy_documents/Learning Teaching/enrolments_courseworl_procedure.pdf\n",
      "/Users/pamelapham/Documents/Murdoch/ICT302/Final_year_project/murdoch_policy/media/policy_documents/Learning Teaching/concurrent_studies_policy.pdf\n",
      "/Users/pamelapham/Documents/Murdoch/ICT302/Final_year_project/murdoch_policy/media/policy_documents/Learning Teaching/honours_procedure.pdf\n",
      "/Users/pamelapham/Documents/Murdoch/ICT302/Final_year_project/murdoch_policy/media/policy_documents/Learning Teaching/work_integrated_learning_work_placements_procedure.pdf\n",
      "/Users/pamelapham/Documents/Murdoch/ICT302/Final_year_project/murdoch_policy/media/policy_documents/Learning Teaching/assessment_and_award_of_advanced_standing_procedure.pdf\n",
      "/Users/pamelapham/Documents/Murdoch/ICT302/Final_year_project/murdoch_policy/media/policy_documents/Learning Teaching/unit_material_licence_policy.pdf\n",
      "/Users/pamelapham/Documents/Murdoch/ICT302/Final_year_project/murdoch_policy/media/policy_documents/Learning Teaching/admission_and_support_of_international_students_policy.pdf\n",
      "/Users/pamelapham/Documents/Murdoch/ICT302/Final_year_project/murdoch_policy/media/policy_documents/Learning Teaching/academic_monitoring_and_progression_policy_v1.pdf\n",
      "/Users/pamelapham/Documents/Murdoch/ICT302/Final_year_project/murdoch_policy/media/policy_documents/Learning Teaching/academic_monitoring_and_progression_procedure_v3.pdf\n",
      "/Users/pamelapham/Documents/Murdoch/ICT302/Final_year_project/murdoch_policy/media/policy_documents/Learning Teaching/student_appeals_policy.pdf\n",
      "/Users/pamelapham/Documents/Murdoch/ICT302/Final_year_project/murdoch_policy/media/policy_documents/Learning Teaching/award_of_bachelor_degrees_with_distinction_or_high_distinction_policy.pdf\n",
      "/Users/pamelapham/Documents/Murdoch/ICT302/Final_year_project/murdoch_policy/media/policy_documents/Learning Teaching/issuing_of_non-award_certificates_policy.pdf\n",
      "/Users/pamelapham/Documents/Murdoch/ICT302/Final_year_project/murdoch_policy/media/policy_documents/Learning Teaching/assessment_procedure_2016august.pdf\n",
      "/Users/pamelapham/Documents/Murdoch/ICT302/Final_year_project/murdoch_policy/media/policy_documents/Learning Teaching/conscientious_objection_in_teaching_and_assessment_policy.pdf\n",
      "/Users/pamelapham/Documents/Murdoch/ICT302/Final_year_project/murdoch_policy/media/policy_documents/Learning Teaching/transnational_education_via_partnerships_policy.pdf\n",
      "/Users/pamelapham/Documents/Murdoch/ICT302/Final_year_project/murdoch_policy/media/policy_documents/Learning Teaching/student_appeals_procedure.pdf\n",
      "/Users/pamelapham/Documents/Murdoch/ICT302/Final_year_project/murdoch_policy/media/policy_documents/Learning Teaching/academic_progression_mandatory_interview_procedure.pdf\n",
      "/Users/pamelapham/Documents/Murdoch/ICT302/Final_year_project/murdoch_policy/media/policy_documents/Learning Teaching/recording_grades_on_academic_transcripts_for_non-award_including_dest_enabling_course_policy.pdf\n",
      "/Users/pamelapham/Documents/Murdoch/ICT302/Final_year_project/murdoch_policy/media/policy_documents/Learning Teaching/masterclass_policy.pdf\n",
      "/Users/pamelapham/Documents/Murdoch/ICT302/Final_year_project/murdoch_policy/media/policy_documents/Learning Teaching/change_of_course_enrolment_procedure.pdf\n",
      "/Users/pamelapham/Documents/Murdoch/ICT302/Final_year_project/murdoch_policy/media/policy_documents/Learning Teaching/work_integraed_learning_policy.pdf\n",
      "/Users/pamelapham/Documents/Murdoch/ICT302/Final_year_project/murdoch_policy/media/policy_documents/Learning Teaching/teaching_periods_patterns_and_academic_calendars_policy.pdf\n",
      "/Users/pamelapham/Documents/Murdoch/ICT302/Final_year_project/murdoch_policy/media/policy_documents/Learning Teaching/assessment_guideline_2016January01.pdf\n",
      "/Users/pamelapham/Documents/Murdoch/ICT302/Final_year_project/murdoch_policy/media/policy_documents/Learning Teaching/change_of_course_enrolment_policy.pdf\n",
      "/Users/pamelapham/Documents/Murdoch/ICT302/Final_year_project/murdoch_policy/media/policy_documents/Learning Teaching/library_policy.pdf\n",
      "/Users/pamelapham/Documents/Murdoch/ICT302/Final_year_project/murdoch_policy/media/policy_documents/Learning Teaching/student_disability_policy.pdf\n",
      "/Users/pamelapham/Documents/Murdoch/ICT302/Final_year_project/murdoch_policy/media/policy_documents/Learning Teaching/enrolments_policy.pdf\n",
      "/Users/pamelapham/Documents/Murdoch/ICT302/Final_year_project/murdoch_policy/media/policy_documents/Learning Teaching/timetabling_policy.pdf\n",
      "/Users/pamelapham/Documents/Murdoch/ICT302/Final_year_project/murdoch_policy/media/policy_documents/Learning Teaching/short_course_open_program_murdoch_executive_educationa_centre_procedure.pdf\n",
      "/Users/pamelapham/Documents/Murdoch/ICT302/Final_year_project/murdoch_policy/media/policy_documents/Learning Teaching/service_teaching_procedure.pdf\n",
      "/Users/pamelapham/Documents/Murdoch/ICT302/Final_year_project/murdoch_policy/media/policy_documents/Learning Teaching/unit_materials_standard.pdf\n",
      "/Users/pamelapham/Documents/Murdoch/ICT302/Final_year_project/murdoch_policy/media/policy_documents/Learning Teaching/enabling_programs_policy.pdf\n",
      "/Users/pamelapham/Documents/Murdoch/ICT302/Final_year_project/murdoch_policy/media/policy_documents/Learning Teaching/international_student_transfer_procedure.pdf\n",
      "/Users/pamelapham/Documents/Murdoch/ICT302/Final_year_project/murdoch_policy/media/policy_documents/Learning Teaching/articulations_policy.pdf\n",
      "/Users/pamelapham/Documents/Murdoch/ICT302/Final_year_project/murdoch_policy/media/policy_documents/Learning Teaching/advanced_standing_policy.pdf\n",
      "/Users/pamelapham/Documents/Murdoch/ICT302/Final_year_project/murdoch_policy/media/policy_documents/Learning Teaching/coursework_regulations_effective-from_1january2018.pdf\n",
      "/Users/pamelapham/Documents/Murdoch/ICT302/Final_year_project/murdoch_policy/media/policy_documents/Information Technology/password_policy.pdf\n",
      "/Users/pamelapham/Documents/Murdoch/ICT302/Final_year_project/murdoch_policy/media/policy_documents/Information Technology/ict_security_policy.pdf\n",
      "/Users/pamelapham/Documents/Murdoch/ICT302/Final_year_project/murdoch_policy/media/policy_documents/Information Technology/it_conditions_of_use_policy.pdf\n",
      "/Users/pamelapham/Documents/Murdoch/ICT302/Final_year_project/murdoch_policy/media/policy_documents/Information Technology/email_and_electronic_messaging_policy.pdf\n",
      "/Users/pamelapham/Documents/Murdoch/ICT302/Final_year_project/murdoch_policy/media/policy_documents/Information Technology/end_user_computing_device_procurement_policy.pdf\n",
      "/Users/pamelapham/Documents/Murdoch/ICT302/Final_year_project/murdoch_policy/media/policy_documents/Community Development/social_media_policy.pdf\n",
      "/Users/pamelapham/Documents/Murdoch/ICT302/Final_year_project/murdoch_policy/media/policy_documents/Community Development/brand_policy.pdf\n",
      "/Users/pamelapham/Documents/Murdoch/ICT302/Final_year_project/murdoch_policy/media/policy_documents/Community Development/de-accessioning_of_artwork_policy.pdf\n",
      "/Users/pamelapham/Documents/Murdoch/ICT302/Final_year_project/murdoch_policy/media/policy_documents/Community Development/art_board_terms_of_reference.pdf\n",
      "/Users/pamelapham/Documents/Murdoch/ICT302/Final_year_project/murdoch_policy/media/policy_documents/Community Development/the_loadn_of_artworks_policy.pdf\n",
      "/Users/pamelapham/Documents/Murdoch/ICT302/Final_year_project/murdoch_policy/media/policy_documents/Community Development/acquisition_of_artwork_policy.pdf\n",
      "/Users/pamelapham/Documents/Murdoch/ICT302/Final_year_project/murdoch_policy/media/policy_documents/Governance/fraud_and_corruption_control_plan.pdf\n",
      "/Users/pamelapham/Documents/Murdoch/ICT302/Final_year_project/murdoch_policy/media/policy_documents/Governance/fee_regulations.pdf\n",
      "/Users/pamelapham/Documents/Murdoch/ICT302/Final_year_project/murdoch_policy/media/policy_documents/Governance/establishment_of_undergraduate_honours_postgraduate_by_coursework_and_recruitment_scholarships_policy.pdf\n",
      "/Users/pamelapham/Documents/Murdoch/ICT302/Final_year_project/murdoch_policy/media/policy_documents/Governance/intellectual_property_regulations.pdf\n",
      "/Users/pamelapham/Documents/Murdoch/ICT302/Final_year_project/murdoch_policy/media/policy_documents/Governance/award_of_honorary_degree_policy.pdf\n",
      "/Users/pamelapham/Documents/Murdoch/ICT302/Final_year_project/murdoch_policy/media/policy_documents/Governance/internationalisation_policy.pdf\n",
      "/Users/pamelapham/Documents/Murdoch/ICT302/Final_year_project/murdoch_policy/media/policy_documents/Governance/award_nomenclature_certification_and_issuance_policy.pdf\n",
      "/Users/pamelapham/Documents/Murdoch/ICT302/Final_year_project/murdoch_policy/media/policy_documents/Governance/conflict_of_interest_policy.pdf\n",
      "/Users/pamelapham/Documents/Murdoch/ICT302/Final_year_project/murdoch_policy/media/policy_documents/Governance/statute_no19_alumni.pdf\n",
      "/Users/pamelapham/Documents/Murdoch/ICT302/Final_year_project/murdoch_policy/media/policy_documents/Governance/archives_and_archival_records_policy.pdf\n",
      "/Users/pamelapham/Documents/Murdoch/ICT302/Final_year_project/murdoch_policy/media/policy_documents/Governance/public_interest_disclosure_policy.pdf\n",
      "/Users/pamelapham/Documents/Murdoch/ICT302/Final_year_project/murdoch_policy/media/policy_documents/Governance/responsible_investment_charter.pdf\n",
      "/Users/pamelapham/Documents/Murdoch/ICT302/Final_year_project/murdoch_policy/media/policy_documents/Governance/statute_no1.pdf\n",
      "/Users/pamelapham/Documents/Murdoch/ICT302/Final_year_project/murdoch_policy/media/policy_documents/Governance/student_complaints_management_procedure.pdf\n",
      "/Users/pamelapham/Documents/Murdoch/ICT302/Final_year_project/murdoch_policy/media/policy_documents/Governance/publishing_minutes_and_agendas_policy.pdf\n",
      "/Users/pamelapham/Documents/Murdoch/ICT302/Final_year_project/murdoch_policy/media/policy_documents/Governance/selection_of_chancellor_policy.pdf\n",
      "/Users/pamelapham/Documents/Murdoch/ICT302/Final_year_project/murdoch_policy/media/policy_documents/Governance/statute_no8_interpretation.pdf\n",
      "/Users/pamelapham/Documents/Murdoch/ICT302/Final_year_project/murdoch_policy/media/policy_documents/Governance/staff_code_of_conduct.pdf\n",
      "/Users/pamelapham/Documents/Murdoch/ICT302/Final_year_project/murdoch_policy/media/policy_documents/Governance/posthumous_awards_policy.pdf\n",
      "/Users/pamelapham/Documents/Murdoch/ICT302/Final_year_project/murdoch_policy/media/policy_documents/Governance/academic_council_statement_of_governance_principles.pdf\n",
      "/Users/pamelapham/Documents/Murdoch/ICT302/Final_year_project/murdoch_policy/media/policy_documents/Governance/senate_statement_of_governance_principles.pdf\n",
      "/Users/pamelapham/Documents/Murdoch/ICT302/Final_year_project/murdoch_policy/media/policy_documents/Governance/recordingkeeping_policy.pdf\n",
      "/Users/pamelapham/Documents/Murdoch/ICT302/Final_year_project/murdoch_policy/media/policy_documents/Governance/quality_assurance_and_improvement_policy.pdf\n",
      "/Users/pamelapham/Documents/Murdoch/ICT302/Final_year_project/murdoch_policy/media/policy_documents/Governance/statute_no18_intellectual_property.pdf\n",
      "/Users/pamelapham/Documents/Murdoch/ICT302/Final_year_project/murdoch_policy/media/policy_documents/Governance/student_loan_regulations.pdf\n",
      "/Users/pamelapham/Documents/Murdoch/ICT302/Final_year_project/murdoch_policy/media/policy_documents/Governance/statute_no26_student_misconduct.pdf\n",
      "/Users/pamelapham/Documents/Murdoch/ICT302/Final_year_project/murdoch_policy/media/policy_documents/Governance/graduate_research_degrees_regulations.pdf\n",
      "/Users/pamelapham/Documents/Murdoch/ICT302/Final_year_project/murdoch_policy/media/policy_documents/Governance/higher_doctorate_regulations.pdf\n",
      "/Users/pamelapham/Documents/Murdoch/ICT302/Final_year_project/murdoch_policy/media/policy_documents/Governance/student_appeals_committee_regulations.pdf\n",
      "/Users/pamelapham/Documents/Murdoch/ICT302/Final_year_project/murdoch_policy/media/policy_documents/Governance/college_regulations.pdf\n",
      "/Users/pamelapham/Documents/Murdoch/ICT302/Final_year_project/murdoch_policy/media/policy_documents/Governance/statute_no21_affiliated_institutions.pdf\n",
      "/Users/pamelapham/Documents/Murdoch/ICT302/Final_year_project/murdoch_policy/media/policy_documents/Governance/conduct_of_examinations_regulations.pdf\n",
      "/Users/pamelapham/Documents/Murdoch/ICT302/Final_year_project/murdoch_policy/media/policy_documents/Governance/university_medals_policy.pdf\n",
      "/Users/pamelapham/Documents/Murdoch/ICT302/Final_year_project/murdoch_policy/media/policy_documents/Governance/complaints_management_policy.pdf\n",
      "/Users/pamelapham/Documents/Murdoch/ICT302/Final_year_project/murdoch_policy/media/policy_documents/Governance/statute_no4_degrees_diplomas_certificates.pdf\n",
      "/Users/pamelapham/Documents/Murdoch/ICT302/Final_year_project/murdoch_policy/media/policy_documents/Governance/by_laws.pdf\n",
      "/Users/pamelapham/Documents/Murdoch/ICT302/Final_year_project/murdoch_policy/media/policy_documents/Governance/animals_on_campus_procedure.pdf\n",
      "/Users/pamelapham/Documents/Murdoch/ICT302/Final_year_project/murdoch_policy/media/policy_documents/Governance/student_discipline_regulations.pdf\n",
      "/Users/pamelapham/Documents/Murdoch/ICT302/Final_year_project/murdoch_policy/media/policy_documents/Governance/authorship_attribution_policy.pdf\n",
      "/Users/pamelapham/Documents/Murdoch/ICT302/Final_year_project/murdoch_policy/media/policy_documents/Governance/statute_no25_vice_chancellor.pdf\n",
      "/Users/pamelapham/Documents/Murdoch/ICT302/Final_year_project/murdoch_policy/media/policy_documents/Governance/rules_for_the_conduct_of_examinations.pdf\n",
      "/Users/pamelapham/Documents/Murdoch/ICT302/Final_year_project/murdoch_policy/media/policy_documents/Governance/senate_medal_policy.pdf\n",
      "/Users/pamelapham/Documents/Murdoch/ICT302/Final_year_project/murdoch_policy/media/policy_documents/Governance/privacy_policy.pdf\n",
      "/Users/pamelapham/Documents/Murdoch/ICT302/Final_year_project/murdoch_policy/media/policy_documents/Governance/naming_of_chairs_buildings_and_facilities_policy.pdf\n",
      "/Users/pamelapham/Documents/Murdoch/ICT302/Final_year_project/murdoch_policy/media/policy_documents/Governance/election_regulations.pdf\n",
      "/Users/pamelapham/Documents/Murdoch/ICT302/Final_year_project/murdoch_policy/media/policy_documents/Governance/student_code_of_conduct.pdf\n",
      "/Users/pamelapham/Documents/Murdoch/ICT302/Final_year_project/murdoch_policy/media/policy_documents/Governance/data_classification_policy.pdf\n",
      "/Users/pamelapham/Documents/Murdoch/ICT302/Final_year_project/murdoch_policy/media/policy_documents/Governance/academic_council_regulations.pdf\n",
      "/Users/pamelapham/Documents/Murdoch/ICT302/Final_year_project/murdoch_policy/media/policy_documents/Governance/guild_election_regulations.pdf\n",
      "/Users/pamelapham/Documents/Murdoch/ICT302/Final_year_project/murdoch_policy/media/policy_documents/Governance/fraud_corruption_and_misconduct_policy.pdf\n",
      "/Users/pamelapham/Documents/Murdoch/ICT302/Final_year_project/murdoch_policy/media/policy_documents/Governance/regalia_policy.pdf\n",
      "/Users/pamelapham/Documents/Murdoch/ICT302/Final_year_project/murdoch_policy/media/policy_documents/Governance/dictionary_of_terms_general.pdf\n",
      "/Users/pamelapham/Documents/Murdoch/ICT302/Final_year_project/murdoch_policy/media/policy_documents/Governance/student_discipline_procedure.pdf\n",
      "/Users/pamelapham/Documents/Murdoch/ICT302/Final_year_project/murdoch_policy/media/policy_documents/Governance/code_of_ethics.pdf\n",
      "/Users/pamelapham/Documents/Murdoch/ICT302/Final_year_project/murdoch_policy/media/policy_documents/Governance/statute_no11_admissions.pdf\n",
      "/Users/pamelapham/Documents/Murdoch/ICT302/Final_year_project/murdoch_policy/media/policy_documents/Governance/statute_no20_examinations.pdf\n",
      "/Users/pamelapham/Documents/Murdoch/ICT302/Final_year_project/murdoch_policy/media/policy_documents/Governance/statute_no15_elections.pdf\n",
      "/Users/pamelapham/Documents/Murdoch/ICT302/Final_year_project/murdoch_policy/media/policy_documents/Governance/fee_rules.pdf\n",
      "/Users/pamelapham/Documents/Murdoch/ICT302/Final_year_project/murdoch_policy/media/policy_documents/Governance/statute_no22_fees.pdf\n",
      "/Users/pamelapham/Documents/Murdoch/ICT302/Final_year_project/murdoch_policy/media/policy_documents/Governance/public_interest_disclosure_procedure.pdf\n",
      "/Users/pamelapham/Documents/Murdoch/ICT302/Final_year_project/murdoch_policy/media/policy_documents/Governance/guild_regulations.pdf\n",
      "/Users/pamelapham/Documents/Murdoch/ICT302/Final_year_project/murdoch_policy/media/policy_documents/Governance/statute_no5_academic_council.pdf\n",
      "/Users/pamelapham/Documents/Murdoch/ICT302/Final_year_project/murdoch_policy/media/policy_documents/Governance/statute_no17_guild_of_students.pdf\n",
      "/Users/pamelapham/Documents/Murdoch/ICT302/Final_year_project/murdoch_policy/media/policy_documents/Governance/alumni_regulations.pdf\n",
      "/Users/pamelapham/Documents/Murdoch/ICT302/Final_year_project/murdoch_policy/media/policy_documents/Finance Purchasing Insurance/murdoch_univerisity_foundation_regulations.pdf\n",
      "/Users/pamelapham/Documents/Murdoch/ICT302/Final_year_project/murdoch_policy/media/policy_documents/Finance Purchasing Insurance/murdoch_university_veterinary_fund_regulations.pdf\n"
     ]
    }
   ],
   "source": [
    "for i in range(1,len(folders)):\n",
    "    for d in glob.glob(folders[i]+\"/*.pdf\"):\n",
    "        print(d)"
   ]
  },
  {
   "cell_type": "code",
   "execution_count": 103,
   "metadata": {},
   "outputs": [
    {
     "name": "stdout",
     "output_type": "stream",
     "text": [
      "//\n",
      "//\n",
      "//\n",
      "//\n",
      "//\n",
      "//\n",
      "//\n",
      "//\n",
      "//\n",
      "//\n",
      "//\n",
      "//\n",
      "//\n",
      "//\n",
      "//\n",
      "//\n",
      "//\n",
      "//\n",
      "//\n",
      "//\n",
      "//\n",
      "//\n",
      "//\n",
      "//\n",
      "//\n",
      "//\n",
      "//\n",
      "//\n",
      "//\n",
      "//\n",
      "//\n",
      "//\n",
      "//\n",
      "//\n",
      "//\n",
      "//\n",
      "//\n",
      "//\n",
      "//\n",
      "//\n",
      "//\n",
      "//\n",
      "//\n",
      "//\n",
      "//\n",
      "//\n",
      "//\n",
      "//\n",
      "//\n",
      "//\n",
      "//\n",
      "//\n",
      "//\n",
      "//\n",
      "//\n",
      "//\n",
      "//\n",
      "//\n",
      "//\n",
      "//\n",
      "//\n",
      "//\n",
      "//\n",
      "//\n",
      "//\n",
      "//\n",
      "//\n",
      "//\n",
      "//\n",
      "//\n",
      "//\n",
      "//\n",
      "//\n",
      "//\n",
      "//\n",
      "//\n",
      "//\n",
      "//\n",
      "//\n",
      "//\n",
      "//\n",
      "//\n",
      "//\n",
      "//\n",
      "//\n",
      "//\n",
      "//\n",
      "//\n",
      "//\n",
      "//\n",
      "//\n",
      "//\n",
      "//\n",
      "//\n",
      "//\n",
      "//\n",
      "//\n",
      "//\n",
      "//\n",
      "//\n",
      "//\n",
      "//\n",
      "//\n",
      "//\n",
      "//\n",
      "//\n",
      "//\n",
      "//\n",
      "//\n",
      "//\n",
      "//\n",
      "//\n",
      "//\n",
      "//\n",
      "//\n",
      "//\n",
      "//\n",
      "//\n",
      "//\n",
      "//\n",
      "//\n",
      "//\n",
      "//\n",
      "//\n",
      "//\n",
      "//\n",
      "//\n",
      "//\n",
      "//\n",
      "//\n",
      "//\n",
      "//\n",
      "//\n",
      "//\n",
      "//\n",
      "//\n",
      "//\n",
      "//\n"
     ]
    }
   ],
   "source": [
    "for i in range(1,len(folders)):\n",
    "    for txtDoc in findfiles(\"*.pdf\",folders[i]):\n",
    "        docname=txtDoc[txtDoc.rindex('/')+1:txtDoc.rindex('.')]\n",
    "        path = txtDoc[0:txtDoc.rindex('/')]\n",
    "        #print(docname)\n",
    "        print(path)"
   ]
  },
  {
   "cell_type": "code",
   "execution_count": 40,
   "metadata": {},
   "outputs": [
    {
     "name": "stdout",
     "output_type": "stream",
     "text": [
      "<_io.TextIOWrapper name='/Users/pamelapham/Documents/Murdoch/ICT302/Final_year_project/murdoch_policy/policy_documents/Research/Graduate Research Degrees Joint Doctoral Degree Research Policy V3.txt' mode='w+' encoding='UTF-8'>\n",
      "<_io.TextIOWrapper name='/Users/pamelapham/Documents/Murdoch/ICT302/Final_year_project/murdoch_policy/policy_documents/Research/Human Research Ethics Policy V4.txt' mode='w+' encoding='UTF-8'>\n",
      "<_io.TextIOWrapper name='/Users/pamelapham/Documents/Murdoch/ICT302/Final_year_project/murdoch_policy/policy_documents/Research/Animal Ethics Policy V2.txt' mode='w+' encoding='UTF-8'>\n",
      "<_io.TextIOWrapper name='/Users/pamelapham/Documents/Murdoch/ICT302/Final_year_project/murdoch_policy/policy_documents/Research/Responsible Conduct Of Research Policy V2.txt' mode='w+' encoding='UTF-8'>\n",
      "<_io.TextIOWrapper name='/Users/pamelapham/Documents/Murdoch/ICT302/Final_year_project/murdoch_policy/policy_documents/Research/Research Misconduct Policy V1.txt' mode='w+' encoding='UTF-8'>\n"
     ]
    }
   ],
   "source": [
    "#Find the PDF docs and process to txt\n",
    "txtDocs=[]\n",
    "for i in range(1,2):\n",
    "    for d in findfiles(\"*.pdf\",folders[i]):\n",
    "        doc = pdf_to_txt(d) \n",
    "        txtDocs.append(doc)"
   ]
  },
  {
   "cell_type": "markdown",
   "metadata": {},
   "source": [
    "# Cleanup"
   ]
  },
  {
   "cell_type": "code",
   "execution_count": null,
   "metadata": {},
   "outputs": [],
   "source": [
    "DocLink.objects.all().delete()\n",
    "Document.objects.all().delete()\n",
    "Category.objects.all().delete()\n",
    "StopWord.objects.all().delete()"
   ]
  },
  {
   "cell_type": "markdown",
   "metadata": {},
   "source": [
    "# Create Categories"
   ]
  },
  {
   "cell_type": "code",
   "execution_count": null,
   "metadata": {},
   "outputs": [],
   "source": [
    "#Create base on the folders name\n",
    "for i in range(1,len(folders)):\n",
    "    catname=folders[i][folders[i].rindex('/')+1::]\n",
    "    cat = Category.objects.create(category_name=catname)\n",
    "    cat.save()"
   ]
  },
  {
   "cell_type": "markdown",
   "metadata": {},
   "source": [
    "# Create Documents"
   ]
  },
  {
   "cell_type": "code",
   "execution_count": null,
   "metadata": {},
   "outputs": [],
   "source": [
    "for i in range(1,len(folders)):\n",
    "    for txtDoc in glob.glob(folders[i]+\"/*.txt\"):\n",
    "        with open(txtDoc, 'r') as f:\n",
    "            docname=txtDoc[txtDoc.rindex('/')+1:txtDoc.rindex('.')]\n",
    "            catname=folders[i][folders[i].rindex('/')+1::]\n",
    "            cat = Category.objects.get(category_name__exact=catname)\n",
    "            text = f.readline().rstrip()\n",
    "            nodeSize = len(text)\n",
    "            doc = Document.objects.create(doc_name=docname,category=cat,node_size=nodeSize,doc_text=text,feature_words)\n",
    "            doc.save()"
   ]
  },
  {
   "cell_type": "markdown",
   "metadata": {},
   "source": [
    "# Create DocLinks"
   ]
  },
  {
   "cell_type": "code",
   "execution_count": null,
   "metadata": {},
   "outputs": [],
   "source": [
    "docs = Document.objects.all()\n",
    "alpha = 0.3\n",
    "for i in range(len(docs)):    \n",
    "    for j in range(len(docs)):\n",
    "        if i<j:\n",
    "            similarity = get_similarity(docs[i].doc_text, docs[j].doc_text)\n",
    "            if(similarity>alpha):\n",
    "                doclink = DocLink.objects.create(source=docs[i].id,target=docs[j].id,value=similarity)\n",
    "                doclink.save()"
   ]
  },
  {
   "cell_type": "markdown",
   "metadata": {},
   "source": [
    "# Redraw the Documents Network Graph"
   ]
  },
  {
   "cell_type": "code",
   "execution_count": null,
   "metadata": {},
   "outputs": [],
   "source": [
    "docLinks = DocLink.objects.all()\n"
   ]
  },
  {
   "cell_type": "code",
   "execution_count": null,
   "metadata": {},
   "outputs": [],
   "source": [
    "draw_network_documents(docs,docLinks,HOMEPAGE_MAP)"
   ]
  },
  {
   "cell_type": "code",
   "execution_count": null,
   "metadata": {},
   "outputs": [],
   "source": [
    "draw_doc_relationship(docs[8])"
   ]
  },
  {
   "cell_type": "code",
   "execution_count": null,
   "metadata": {},
   "outputs": [],
   "source": []
  },
  {
   "cell_type": "code",
   "execution_count": null,
   "metadata": {},
   "outputs": [],
   "source": []
  }
 ],
 "metadata": {
  "kernelspec": {
   "display_name": "Django Shell-Plus",
   "language": "python",
   "name": "django_extensions"
  },
  "language_info": {
   "codemirror_mode": {
    "name": "ipython",
    "version": 3
   },
   "file_extension": ".py",
   "mimetype": "text/x-python",
   "name": "python",
   "nbconvert_exporter": "python",
   "pygments_lexer": "ipython3",
   "version": "3.7.3"
  }
 },
 "nbformat": 4,
 "nbformat_minor": 4
}
